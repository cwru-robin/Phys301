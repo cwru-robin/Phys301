{
 "cells": [
  {
   "cell_type": "code",
   "execution_count": 2,
   "metadata": {},
   "outputs": [],
   "source": [
    "import numpy as np\n",
    "import pandas as pd\n",
    "import scipy.interpolate as inter\n",
    "import matplotlib.pyplot as plt\n",
    "from scipy.signal import savgol_filter\n",
    "import scipy.optimize as opt\n",
    "\n",
    "def throughoutOutliers(data):\n",
    "    for i in range(1,len(data)):\n",
    "        if(np.abs(data[i]-data[i-1])>0.005*data[i]):\n",
    "            try:\n",
    "                data[i]=(data[i-1]+data[i+1])/2\n",
    "            except IndexError:\n",
    "                data[i]=data[i-1]\n",
    "    return data"
   ]
  },
  {
   "cell_type": "code",
   "execution_count": 3,
   "metadata": {},
   "outputs": [],
   "source": [
    "trail1 =np.loadtxt(\"norm/1011_RXC.txt\",) ## not good carbon data\n",
    "#trail1[0]=throughoutOutliers(trail1[0])\n",
    "#trail1[1]=throughoutOutliers(trail1[1])\n",
    "#trail1[2]=throughoutOutliers(trail1[2])\n",
    "#trail1[3]=throughoutOutliers(trail1[3])\n",
    "trail2 =np.loadtxt(\"norm/1013_RXC.txt\",)\n",
    "trail2[0]=throughoutOutliers(trail2[0])\n",
    "trail2[1]=throughoutOutliers(trail2[1])\n",
    "trail2[2]=throughoutOutliers(trail2[2])\n",
    "trail2[3]=throughoutOutliers(trail2[3])\n",
    "trail3 =np.loadtxt(\"norm/1013_RXCa.txt\",)\n",
    "trail3[0]=throughoutOutliers(trail3[0])\n",
    "trail3[1]=throughoutOutliers(trail3[1])\n",
    "trail3[2]=throughoutOutliers(trail3[2])\n",
    "trail3[3]=throughoutOutliers(trail3[3])\n",
    "\n",
    "trail4 =np.loadtxt(\"norm/1016_RXC.txt\",)\n",
    "trail4[0]=throughoutOutliers(trail4[0])\n",
    "trail4[1]=throughoutOutliers(trail4[1])\n",
    "trail4[2]=throughoutOutliers(trail4[2])\n",
    "trail4[3]=throughoutOutliers(trail4[3])\n",
    "trail5 =np.loadtxt(\"norm/1016_RXCb.txt\",)\n",
    "trail5[0]=throughoutOutliers(trail5[0])\n",
    "trail5[1]=throughoutOutliers(trail5[1])\n",
    "trail5[2]=throughoutOutliers(trail5[2])\n",
    "trail5[3]=throughoutOutliers(trail5[3])\n",
    "trails1 =np.loadtxt(\"norm/1017_RXC_super1.txt\",)\n",
    "trails2 =np.loadtxt(\"norm/1017_RXC_super2.txt\",)\n",
    "trails3 =np.loadtxt(\"norm/1017_RXC_super3.txt\",)"
   ]
  },
  {
   "cell_type": "code",
   "execution_count": 7,
   "metadata": {},
   "outputs": [],
   "source": [
    "tempconversion=ppd.read_csv(\"Si_Diode_Specs_New.csv\", header=None).to_numpy().T"
   ]
  },
  {
   "cell_type": "code",
   "execution_count": 8,
   "metadata": {},
   "outputs": [
    {
     "data": {
      "text/plain": [
       "array([[ 4.75000e+02,  4.70000e+02,  4.60000e+02,  4.50000e+02,\n",
       "         4.40000e+02,  4.30000e+02,  4.20000e+02,  4.10000e+02,\n",
       "         4.00000e+02,  3.90000e+02,  3.80000e+02,  3.70000e+02,\n",
       "         3.60000e+02,  3.50000e+02,  3.40000e+02,  3.30000e+02,\n",
       "         3.20000e+02,  3.10000e+02,  3.00000e+02,  2.90000e+02,\n",
       "         2.80000e+02,  2.70000e+02,  2.60000e+02,  2.50000e+02,\n",
       "         2.40000e+02,  2.30000e+02,  2.20000e+02,  2.10000e+02,\n",
       "         2.00000e+02,  1.90000e+02,  1.80000e+02,  1.70000e+02,\n",
       "         1.60000e+02,  1.50000e+02,  1.40000e+02,  1.30000e+02,\n",
       "         1.20000e+02,  1.10000e+02,  1.00000e+02,  9.50000e+01,\n",
       "         9.00000e+01,  8.50000e+01,  8.00000e+01,  7.50000e+01,\n",
       "         7.00000e+01,  6.50000e+01,  6.00000e+01,  5.80000e+01,\n",
       "         5.60000e+01,  5.40000e+01,  5.20000e+01,  5.00000e+01,\n",
       "         4.80000e+01,  4.60000e+01,  4.40000e+01,  4.20000e+01,\n",
       "         4.00000e+01,  3.80000e+01,  3.60000e+01,  3.40000e+01,\n",
       "         3.20000e+01,  3.00000e+01,  2.90000e+01,  2.80000e+01,\n",
       "         2.70000e+01,  2.60000e+01,  2.50000e+01,  2.40000e+01,\n",
       "         2.30000e+01,  2.20000e+01,  2.10000e+01,  2.00000e+01,\n",
       "         1.95000e+01,  1.90000e+01,  1.85000e+01,  1.80000e+01,\n",
       "         1.75000e+01,  1.70000e+01,  1.65000e+01,  1.60000e+01,\n",
       "         1.55000e+01,  1.50000e+01,  1.45000e+01,  1.40000e+01,\n",
       "         1.35000e+01,  1.30000e+01,  1.25000e+01,  1.20000e+01,\n",
       "         1.15000e+01,  1.10000e+01,  1.05000e+01,  1.00000e+01,\n",
       "         9.50000e+00,  9.00000e+00,  8.50000e+00,  8.00000e+00,\n",
       "         7.50000e+00,  7.00000e+00,  6.50000e+00,  6.00000e+00,\n",
       "         5.50000e+00,  5.00000e+00,  4.80000e+00,  4.60000e+00,\n",
       "         4.40000e+00,  4.20000e+00,  4.00000e+00,  3.80000e+00,\n",
       "         3.60000e+00,  3.40000e+00,  3.20000e+00,  3.00000e+00,\n",
       "         2.80000e+00,  2.60000e+00,  2.40000e+00,  2.20000e+00,\n",
       "         2.00000e+00,  1.80000e+00,  1.60000e+00,  1.40000e+00],\n",
       "       [ 9.06200e-02,  1.01910e-01,  1.25470e-01,  1.49850e-01,\n",
       "         1.74640e-01,  1.99610e-01,  2.24630e-01,  2.49630e-01,\n",
       "         2.74560e-01,  2.99410e-01,  3.24160e-01,  3.48810e-01,\n",
       "         3.73370e-01,  3.97830e-01,  4.22210e-01,  4.46470e-01,\n",
       "         4.70690e-01,  4.94840e-01,  5.18920e-01,  5.42940e-01,\n",
       "         5.66900e-01,  5.90800e-01,  6.14650e-01,  6.38410e-01,\n",
       "         6.62080e-01,  6.85640e-01,  7.09080e-01,  7.32380e-01,\n",
       "         7.55540e-01,  7.78550e-01,  8.01380e-01,  8.24040e-01,\n",
       "         8.46500e-01,  8.68730e-01,  8.90720e-01,  9.12430e-01,\n",
       "         9.33830e-01,  9.54870e-01,  9.75500e-01,  9.85640e-01,\n",
       "         9.95650e-01,  1.00552e+00,  1.01525e+00,  1.02482e+00,\n",
       "         1.03425e+00,  1.04353e+00,  1.05267e+00,  1.05629e+00,\n",
       "         1.05988e+00,  1.06346e+00,  1.06700e+00,  1.07053e+00,\n",
       "         1.07402e+00,  1.07748e+00,  1.08093e+00,  1.08436e+00,\n",
       "         1.08781e+00,  1.09131e+00,  1.09490e+00,  1.09864e+00,\n",
       "         1.10263e+00,  1.10702e+00,  1.10945e+00,  1.11212e+00,\n",
       "         1.11517e+00,  1.11896e+00,  1.12463e+00,  1.13598e+00,\n",
       "         1.15558e+00,  1.17705e+00,  1.19645e+00,  1.21440e+00,\n",
       "         1.22314e+00,  1.23184e+00,  1.24053e+00,  1.24928e+00,\n",
       "         1.25810e+00,  1.26702e+00,  1.27607e+00,  1.28527e+00,\n",
       "         1.29464e+00,  1.30422e+00,  1.31403e+00,  1.32412e+00,\n",
       "         1.33453e+00,  1.34530e+00,  1.35647e+00,  1.36809e+00,\n",
       "         1.38021e+00,  1.39287e+00,  1.40615e+00,  1.42013e+00,\n",
       "         1.43488e+00,  1.45048e+00,  1.46700e+00,  1.48443e+00,\n",
       "         1.50272e+00,  1.52166e+00,  1.54097e+00,  1.56027e+00,\n",
       "         1.57928e+00,  1.59782e+00,  1.60506e+00,  1.61220e+00,\n",
       "         1.61920e+00,  1.62602e+00,  1.63263e+00,  1.63905e+00,\n",
       "         1.64529e+00,  1.65000e+00,  1.65721e+00,  1.66292e+00,\n",
       "         1.66845e+00,  1.67376e+00,  1.67880e+00,  1.68352e+00,\n",
       "         1.68786e+00,  1.69177e+00,  1.69521e+00,  1.69812e+00],\n",
       "       [-2.22000e+00, -2.30000e+00, -2.41000e+00, -2.46000e+00,\n",
       "        -2.49000e+00, -2.50000e+00, -2.50000e+00, -2.50000e+00,\n",
       "        -2.49000e+00, -2.48000e+00, -2.47000e+00, -2.46000e+00,\n",
       "        -2.45000e+00, -2.44000e+00, -2.43000e+00, -2.42000e+00,\n",
       "        -2.42000e+00, -2.41000e+00, -2.40000e+00, -2.40000e+00,\n",
       "        -2.39000e+00, -2.39000e+00, -2.38000e+00, -2.37000e+00,\n",
       "        -2.36000e+00, -2.35000e+00, -2.34000e+00, -2.32000e+00,\n",
       "        -2.31000e+00, -2.29000e+00, -2.28000e+00, -2.26000e+00,\n",
       "        -2.24000e+00, -2.21000e+00, -2.19000e+00, -2.16000e+00,\n",
       "        -2.12000e+00, -2.08000e+00, -2.04000e+00, -2.02000e+00,\n",
       "        -1.99000e+00, -1.96000e+00, -1.93000e+00, -1.91000e+00,\n",
       "        -1.87000e+00, -1.84000e+00, -1.81000e+00, -1.80000e+00,\n",
       "        -1.79000e+00, -1.78000e+00, -1.77000e+00, -1.75000e+00,\n",
       "        -1.74000e+00, -1.73000e+00, -1.72000e+00, -1.72000e+00,\n",
       "        -1.74000e+00, -1.77000e+00, -1.83000e+00, -1.92000e+00,\n",
       "        -2.08000e+00, -2.34000e+00, -2.53000e+00, -2.82000e+00,\n",
       "        -3.34000e+00, -4.34000e+00, -7.72000e+00, -1.59000e+01,\n",
       "        -2.17000e+01, -2.06000e+01, -1.85000e+01, -1.76000e+01,\n",
       "        -1.74000e+01, -1.74000e+01, -1.74000e+01, -1.76000e+01,\n",
       "        -1.77000e+01, -1.80000e+01, -1.82000e+01, -1.86000e+01,\n",
       "        -1.89000e+01, -1.94000e+01, -1.99000e+01, -2.05000e+01,\n",
       "        -2.12000e+01, -2.19000e+01, -2.28000e+01, -2.37000e+01,\n",
       "        -2.48000e+01, -2.59000e+01, -2.72000e+01, -2.87000e+01,\n",
       "        -3.03000e+01, -3.21000e+01, -3.40000e+01, -3.58000e+01,\n",
       "        -3.73000e+01, -3.84000e+01, -3.87000e+01, -3.84000e+01,\n",
       "        -3.76000e+01, -3.65000e+01, -3.60000e+01, -3.54000e+01,\n",
       "        -3.46000e+01, -3.36000e+01, -3.27000e+01, -3.16000e+01,\n",
       "        -3.07000e+01, -2.98000e+01, -2.90000e+01, -2.81000e+01,\n",
       "        -2.71000e+01, -2.59000e+01, -2.44000e+01, -2.27000e+01,\n",
       "        -2.07000e+01, -1.84000e+01, -1.59000e+01, -1.31000e+01]])"
      ]
     },
     "execution_count": 8,
     "metadata": {},
     "output_type": "execute_result"
    }
   ],
   "source": [
    "np.flip(tempconversion,axis=1)"
   ]
  },
  {
   "cell_type": "code",
   "execution_count": 9,
   "metadata": {},
   "outputs": [
    {
     "data": {
      "text/plain": [
       "array([[ 1.40000e+00,  1.60000e+00,  1.80000e+00,  2.00000e+00,\n",
       "         2.20000e+00,  2.40000e+00,  2.60000e+00,  2.80000e+00,\n",
       "         3.00000e+00,  3.20000e+00,  3.40000e+00,  3.60000e+00,\n",
       "         3.80000e+00,  4.00000e+00,  4.20000e+00,  4.40000e+00,\n",
       "         4.60000e+00,  4.80000e+00,  5.00000e+00,  5.50000e+00,\n",
       "         6.00000e+00,  6.50000e+00,  7.00000e+00,  7.50000e+00,\n",
       "         8.00000e+00,  8.50000e+00,  9.00000e+00,  9.50000e+00,\n",
       "         1.00000e+01,  1.05000e+01,  1.10000e+01,  1.15000e+01,\n",
       "         1.20000e+01,  1.25000e+01,  1.30000e+01,  1.35000e+01,\n",
       "         1.40000e+01,  1.45000e+01,  1.50000e+01,  1.55000e+01,\n",
       "         1.60000e+01,  1.65000e+01,  1.70000e+01,  1.75000e+01,\n",
       "         1.80000e+01,  1.85000e+01,  1.90000e+01,  1.95000e+01,\n",
       "         2.00000e+01,  2.10000e+01,  2.20000e+01,  2.30000e+01,\n",
       "         2.40000e+01,  2.50000e+01,  2.60000e+01,  2.70000e+01,\n",
       "         2.80000e+01,  2.90000e+01,  3.00000e+01,  3.20000e+01,\n",
       "         3.40000e+01,  3.60000e+01,  3.80000e+01,  4.00000e+01,\n",
       "         4.20000e+01,  4.40000e+01,  4.60000e+01,  4.80000e+01,\n",
       "         5.00000e+01,  5.20000e+01,  5.40000e+01,  5.60000e+01,\n",
       "         5.80000e+01,  6.00000e+01,  6.50000e+01,  7.00000e+01,\n",
       "         7.50000e+01,  8.00000e+01,  8.50000e+01,  9.00000e+01,\n",
       "         9.50000e+01,  1.00000e+02,  1.10000e+02,  1.20000e+02,\n",
       "         1.30000e+02,  1.40000e+02,  1.50000e+02,  1.60000e+02,\n",
       "         1.70000e+02,  1.80000e+02,  1.90000e+02,  2.00000e+02,\n",
       "         2.10000e+02,  2.20000e+02,  2.30000e+02,  2.40000e+02,\n",
       "         2.50000e+02,  2.60000e+02,  2.70000e+02,  2.80000e+02,\n",
       "         2.90000e+02,  3.00000e+02,  3.10000e+02,  3.20000e+02,\n",
       "         3.30000e+02,  3.40000e+02,  3.50000e+02,  3.60000e+02,\n",
       "         3.70000e+02,  3.80000e+02,  3.90000e+02,  4.00000e+02,\n",
       "         4.10000e+02,  4.20000e+02,  4.30000e+02,  4.40000e+02,\n",
       "         4.50000e+02,  4.60000e+02,  4.70000e+02,  4.75000e+02],\n",
       "       [ 1.69812e+00,  1.69521e+00,  1.69177e+00,  1.68786e+00,\n",
       "         1.68352e+00,  1.67880e+00,  1.67376e+00,  1.66845e+00,\n",
       "         1.66292e+00,  1.65721e+00,  1.65000e+00,  1.64529e+00,\n",
       "         1.63905e+00,  1.63263e+00,  1.62602e+00,  1.61920e+00,\n",
       "         1.61220e+00,  1.60506e+00,  1.59782e+00,  1.57928e+00,\n",
       "         1.56027e+00,  1.54097e+00,  1.52166e+00,  1.50272e+00,\n",
       "         1.48443e+00,  1.46700e+00,  1.45048e+00,  1.43488e+00,\n",
       "         1.42013e+00,  1.40615e+00,  1.39287e+00,  1.38021e+00,\n",
       "         1.36809e+00,  1.35647e+00,  1.34530e+00,  1.33453e+00,\n",
       "         1.32412e+00,  1.31403e+00,  1.30422e+00,  1.29464e+00,\n",
       "         1.28527e+00,  1.27607e+00,  1.26702e+00,  1.25810e+00,\n",
       "         1.24928e+00,  1.24053e+00,  1.23184e+00,  1.22314e+00,\n",
       "         1.21440e+00,  1.19645e+00,  1.17705e+00,  1.15558e+00,\n",
       "         1.13598e+00,  1.12463e+00,  1.11896e+00,  1.11517e+00,\n",
       "         1.11212e+00,  1.10945e+00,  1.10702e+00,  1.10263e+00,\n",
       "         1.09864e+00,  1.09490e+00,  1.09131e+00,  1.08781e+00,\n",
       "         1.08436e+00,  1.08093e+00,  1.07748e+00,  1.07402e+00,\n",
       "         1.07053e+00,  1.06700e+00,  1.06346e+00,  1.05988e+00,\n",
       "         1.05629e+00,  1.05267e+00,  1.04353e+00,  1.03425e+00,\n",
       "         1.02482e+00,  1.01525e+00,  1.00552e+00,  9.95650e-01,\n",
       "         9.85640e-01,  9.75500e-01,  9.54870e-01,  9.33830e-01,\n",
       "         9.12430e-01,  8.90720e-01,  8.68730e-01,  8.46500e-01,\n",
       "         8.24040e-01,  8.01380e-01,  7.78550e-01,  7.55540e-01,\n",
       "         7.32380e-01,  7.09080e-01,  6.85640e-01,  6.62080e-01,\n",
       "         6.38410e-01,  6.14650e-01,  5.90800e-01,  5.66900e-01,\n",
       "         5.42940e-01,  5.18920e-01,  4.94840e-01,  4.70690e-01,\n",
       "         4.46470e-01,  4.22210e-01,  3.97830e-01,  3.73370e-01,\n",
       "         3.48810e-01,  3.24160e-01,  2.99410e-01,  2.74560e-01,\n",
       "         2.49630e-01,  2.24630e-01,  1.99610e-01,  1.74640e-01,\n",
       "         1.49850e-01,  1.25470e-01,  1.01910e-01,  9.06200e-02],\n",
       "       [-1.31000e+01, -1.59000e+01, -1.84000e+01, -2.07000e+01,\n",
       "        -2.27000e+01, -2.44000e+01, -2.59000e+01, -2.71000e+01,\n",
       "        -2.81000e+01, -2.90000e+01, -2.98000e+01, -3.07000e+01,\n",
       "        -3.16000e+01, -3.27000e+01, -3.36000e+01, -3.46000e+01,\n",
       "        -3.54000e+01, -3.60000e+01, -3.65000e+01, -3.76000e+01,\n",
       "        -3.84000e+01, -3.87000e+01, -3.84000e+01, -3.73000e+01,\n",
       "        -3.58000e+01, -3.40000e+01, -3.21000e+01, -3.03000e+01,\n",
       "        -2.87000e+01, -2.72000e+01, -2.59000e+01, -2.48000e+01,\n",
       "        -2.37000e+01, -2.28000e+01, -2.19000e+01, -2.12000e+01,\n",
       "        -2.05000e+01, -1.99000e+01, -1.94000e+01, -1.89000e+01,\n",
       "        -1.86000e+01, -1.82000e+01, -1.80000e+01, -1.77000e+01,\n",
       "        -1.76000e+01, -1.74000e+01, -1.74000e+01, -1.74000e+01,\n",
       "        -1.76000e+01, -1.85000e+01, -2.06000e+01, -2.17000e+01,\n",
       "        -1.59000e+01, -7.72000e+00, -4.34000e+00, -3.34000e+00,\n",
       "        -2.82000e+00, -2.53000e+00, -2.34000e+00, -2.08000e+00,\n",
       "        -1.92000e+00, -1.83000e+00, -1.77000e+00, -1.74000e+00,\n",
       "        -1.72000e+00, -1.72000e+00, -1.73000e+00, -1.74000e+00,\n",
       "        -1.75000e+00, -1.77000e+00, -1.78000e+00, -1.79000e+00,\n",
       "        -1.80000e+00, -1.81000e+00, -1.84000e+00, -1.87000e+00,\n",
       "        -1.91000e+00, -1.93000e+00, -1.96000e+00, -1.99000e+00,\n",
       "        -2.02000e+00, -2.04000e+00, -2.08000e+00, -2.12000e+00,\n",
       "        -2.16000e+00, -2.19000e+00, -2.21000e+00, -2.24000e+00,\n",
       "        -2.26000e+00, -2.28000e+00, -2.29000e+00, -2.31000e+00,\n",
       "        -2.32000e+00, -2.34000e+00, -2.35000e+00, -2.36000e+00,\n",
       "        -2.37000e+00, -2.38000e+00, -2.39000e+00, -2.39000e+00,\n",
       "        -2.40000e+00, -2.40000e+00, -2.41000e+00, -2.42000e+00,\n",
       "        -2.42000e+00, -2.43000e+00, -2.44000e+00, -2.45000e+00,\n",
       "        -2.46000e+00, -2.47000e+00, -2.48000e+00, -2.49000e+00,\n",
       "        -2.50000e+00, -2.50000e+00, -2.50000e+00, -2.49000e+00,\n",
       "        -2.46000e+00, -2.41000e+00, -2.30000e+00, -2.22000e+00]])"
      ]
     },
     "execution_count": 9,
     "metadata": {},
     "output_type": "execute_result"
    }
   ],
   "source": [
    "tempconversion"
   ]
  },
  {
   "cell_type": "code",
   "execution_count": 45,
   "metadata": {},
   "outputs": [
    {
     "ename": "ValueError",
     "evalue": "x must be increasing if s > 0",
     "output_type": "error",
     "traceback": [
      "\u001b[0;31m---------------------------------------------------------------------------\u001b[0m",
      "\u001b[0;31mValueError\u001b[0m                                Traceback (most recent call last)",
      "Cell \u001b[0;32mIn [45], line 1\u001b[0m\n\u001b[0;32m----> 1\u001b[0m tempconspline\u001b[38;5;241m=\u001b[39m inter\u001b[38;5;241m.\u001b[39mInterpolatedUnivariateSpline(tempconversion[\u001b[38;5;241m1\u001b[39m],tempconversion[\u001b[38;5;241m0\u001b[39m])\n\u001b[1;32m      2\u001b[0m xrange\u001b[38;5;241m=\u001b[39mnp\u001b[38;5;241m.\u001b[39marange(\u001b[38;5;241m40\u001b[39m,\u001b[38;5;241m400\u001b[39m,\u001b[38;5;241m.5\u001b[39m)\n\u001b[1;32m      3\u001b[0m plt\u001b[38;5;241m.\u001b[39mplot(xrange,tempconspline(xrange))\n",
      "File \u001b[0;32m~/.local/lib/python3.8/site-packages/scipy/interpolate/_fitpack2.py:661\u001b[0m, in \u001b[0;36mInterpolatedUnivariateSpline.__init__\u001b[0;34m(self, x, y, w, bbox, k, ext, check_finite)\u001b[0m\n\u001b[1;32m    658\u001b[0m \u001b[38;5;28;01mdef\u001b[39;00m \u001b[38;5;21m__init__\u001b[39m(\u001b[38;5;28mself\u001b[39m, x, y, w\u001b[38;5;241m=\u001b[39m\u001b[38;5;28;01mNone\u001b[39;00m, bbox\u001b[38;5;241m=\u001b[39m[\u001b[38;5;28;01mNone\u001b[39;00m]\u001b[38;5;241m*\u001b[39m\u001b[38;5;241m2\u001b[39m, k\u001b[38;5;241m=\u001b[39m\u001b[38;5;241m3\u001b[39m,\n\u001b[1;32m    659\u001b[0m              ext\u001b[38;5;241m=\u001b[39m\u001b[38;5;241m0\u001b[39m, check_finite\u001b[38;5;241m=\u001b[39m\u001b[38;5;28;01mFalse\u001b[39;00m):\n\u001b[0;32m--> 661\u001b[0m     x, y, w, bbox, \u001b[38;5;28mself\u001b[39m\u001b[38;5;241m.\u001b[39mext \u001b[38;5;241m=\u001b[39m \u001b[38;5;28;43mself\u001b[39;49m\u001b[38;5;241;43m.\u001b[39;49m\u001b[43mvalidate_input\u001b[49m\u001b[43m(\u001b[49m\u001b[43mx\u001b[49m\u001b[43m,\u001b[49m\u001b[43m \u001b[49m\u001b[43my\u001b[49m\u001b[43m,\u001b[49m\u001b[43m \u001b[49m\u001b[43mw\u001b[49m\u001b[43m,\u001b[49m\u001b[43m \u001b[49m\u001b[43mbbox\u001b[49m\u001b[43m,\u001b[49m\u001b[43m \u001b[49m\u001b[43mk\u001b[49m\u001b[43m,\u001b[49m\u001b[43m \u001b[49m\u001b[38;5;28;43;01mNone\u001b[39;49;00m\u001b[43m,\u001b[49m\n\u001b[1;32m    662\u001b[0m \u001b[43m                                        \u001b[49m\u001b[43mext\u001b[49m\u001b[43m,\u001b[49m\u001b[43m \u001b[49m\u001b[43mcheck_finite\u001b[49m\u001b[43m)\u001b[49m\n\u001b[1;32m    663\u001b[0m     \u001b[38;5;28;01mif\u001b[39;00m \u001b[38;5;129;01mnot\u001b[39;00m np\u001b[38;5;241m.\u001b[39mall(diff(x) \u001b[38;5;241m>\u001b[39m \u001b[38;5;241m0.0\u001b[39m):\n\u001b[1;32m    664\u001b[0m         \u001b[38;5;28;01mraise\u001b[39;00m \u001b[38;5;167;01mValueError\u001b[39;00m(\u001b[38;5;124m'\u001b[39m\u001b[38;5;124mx must be strictly increasing\u001b[39m\u001b[38;5;124m'\u001b[39m)\n",
      "File \u001b[0;32m~/.local/lib/python3.8/site-packages/scipy/interpolate/_fitpack2.py:224\u001b[0m, in \u001b[0;36mUnivariateSpline.validate_input\u001b[0;34m(x, y, w, bbox, k, s, ext, check_finite)\u001b[0m\n\u001b[1;32m    222\u001b[0m \u001b[38;5;28;01mif\u001b[39;00m s \u001b[38;5;129;01mis\u001b[39;00m \u001b[38;5;28;01mNone\u001b[39;00m \u001b[38;5;129;01mor\u001b[39;00m s \u001b[38;5;241m>\u001b[39m \u001b[38;5;241m0\u001b[39m:\n\u001b[1;32m    223\u001b[0m     \u001b[38;5;28;01mif\u001b[39;00m \u001b[38;5;129;01mnot\u001b[39;00m np\u001b[38;5;241m.\u001b[39mall(diff(x) \u001b[38;5;241m>\u001b[39m\u001b[38;5;241m=\u001b[39m \u001b[38;5;241m0.0\u001b[39m):\n\u001b[0;32m--> 224\u001b[0m         \u001b[38;5;28;01mraise\u001b[39;00m \u001b[38;5;167;01mValueError\u001b[39;00m(\u001b[38;5;124m\"\u001b[39m\u001b[38;5;124mx must be increasing if s > 0\u001b[39m\u001b[38;5;124m\"\u001b[39m)\n\u001b[1;32m    225\u001b[0m \u001b[38;5;28;01melse\u001b[39;00m:\n\u001b[1;32m    226\u001b[0m     \u001b[38;5;28;01mif\u001b[39;00m \u001b[38;5;129;01mnot\u001b[39;00m np\u001b[38;5;241m.\u001b[39mall(diff(x) \u001b[38;5;241m>\u001b[39m \u001b[38;5;241m0.0\u001b[39m):\n",
      "\u001b[0;31mValueError\u001b[0m: x must be increasing if s > 0"
     ]
    }
   ],
   "source": [
    "tempconspline= inter.InterpolatedUnivariateSpline(tempconversion[1],tempconversion[0])\n",
    "xrange=np.arange(40,400,.5)\n",
    "plt.plot(xrange,tempconspline(xrange))"
   ]
  },
  {
   "cell_type": "code",
   "execution_count": 27,
   "metadata": {},
   "outputs": [
    {
     "data": {
      "text/plain": [
       "[<matplotlib.lines.Line2D at 0x7f775f81b850>]"
      ]
     },
     "execution_count": 27,
     "metadata": {},
     "output_type": "execute_result"
    },
    {
     "data": {
      "image/png": "[encoded data removed]",
      "text/plain": [
       "<Figure size 640x480 with 4 Axes>"
      ]
     },
     "metadata": {},
     "output_type": "display_data"
    }
   ],
   "source": [
    "xrange=np.linspace(0,60,len(trail4[0]))\n",
    "fig, ax = plt.subplots(nrows=2, ncols=2)\n",
    "ax[0][0].plot(xrange,trail4[0])\n",
    "ax[0][1].plot(xrange,trail4[1])\n",
    "ax[1][0].plot(xrange,trail4[2])\n",
    "ax[1][1].plot(xrange,trail4[3])"
   ]
  },
  {
   "cell_type": "code",
   "execution_count": 28,
   "metadata": {},
   "outputs": [
    {
     "data": {
      "text/plain": [
       "0.73952085"
      ]
     },
     "execution_count": 28,
     "metadata": {},
     "output_type": "execute_result"
    }
   ],
   "source": [
    "(trail1[0][1-1]+trail1[0][1+1])/2"
   ]
  },
  {
   "cell_type": "code",
   "execution_count": 29,
   "metadata": {},
   "outputs": [
    {
     "data": {
      "text/plain": [
       "4500"
      ]
     },
     "execution_count": 29,
     "metadata": {},
     "output_type": "execute_result"
    }
   ],
   "source": [
    "len(trail3[0])"
   ]
  },
  {
   "cell_type": "code",
   "execution_count": 31,
   "metadata": {},
   "outputs": [
    {
     "data": {
      "text/plain": [
       "array([[ 5.11500600e-001,  5.11564900e-001,  5.11631400e-001, ...,\n",
       "         4.63378416e-199,  2.31689208e-199,  2.31689208e-199],\n",
       "       [-1.09642600e-003, -1.09604000e-003, -1.09540700e-003, ...,\n",
       "        -4.32240514e-202, -2.16120257e-202, -2.16120257e-202],\n",
       "       [-7.35466100e-005, -7.35804500e-005, -7.36099350e-005, ...,\n",
       "        -3.17387423e-203, -1.58693711e-203, -1.58693711e-203],\n",
       "       [ 1.07293700e-003,  1.07243800e-003,  1.07242900e-003, ...,\n",
       "         8.12600457e-202,  4.06300228e-202,  4.06300228e-202]])"
      ]
     },
     "execution_count": 31,
     "metadata": {},
     "output_type": "execute_result"
    }
   ],
   "source": [
    "trail3"
   ]
  },
  {
   "cell_type": "code",
   "execution_count": 32,
   "metadata": {},
   "outputs": [
    {
     "name": "stdout",
     "output_type": "stream",
     "text": [
      "﻿1\n"
     ]
    }
   ],
   "source": [
    "print(\"\\ufeff1\")"
   ]
  },
  {
   "cell_type": "code",
   "execution_count": null,
   "metadata": {},
   "outputs": [],
   "source": []
  }
 ],
 "metadata": {
  "kernelspec": {
   "display_name": "Python 3 (ipykernel)",
   "language": "python",
   "name": "python3"
  },
  "language_info": {
   "codemirror_mode": {
    "name": "ipython",
    "version": 3
   },
   "file_extension": ".py",
   "mimetype": "text/x-python",
   "name": "python",
   "nbconvert_exporter": "python",
   "pygments_lexer": "ipython3",
   "version": "3.8.10"
  }
 },
 "nbformat": 4,
 "nbformat_minor": 1
}
