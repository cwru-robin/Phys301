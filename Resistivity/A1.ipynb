{
 "cells": [
  {
   "cell_type": "code",
   "execution_count": 86,
   "metadata": {
    "collapsed": true
   },
   "outputs": [],
   "source": [
    "import numpy as np\n",
    "import scipy.interpolate as inter\n",
    "import matplotlib.pyplot as plt\n",
    "from scipy.signal import savgol_filter\n",
    "import scipy.optimize as opt\n",
    "\n",
    "def throughoutOutliers(data):\n",
    "    for i in range(1,len(data)):\n",
    "        if(np.abs(data[i]-data[i-1])>0.2):\n",
    "            data[i]=(data[i-1]+data[i+1])/2\n",
    "    return data"
   ]
  },
  {
   "cell_type": "code",
   "execution_count": 92,
   "outputs": [],
   "source": [
    "trail1 =np.loadtxt(\"norm/1011_RXC.txt\",)\n",
    "trail1[0]=throughoutOutliers(trail1[0])\n",
    "#trail1[1]=throughoutOutliers(trail1[1])\n",
    "#trail1[2]=throughoutOutliers(trail1[2])\n",
    "#trail1[3]=throughoutOutliers(trail1[3])\n",
    "trail2 =np.loadtxt(\"norm/1013_RXC.txt\",)\n",
    "trail2[0]=throughoutOutliers(trail2[0])\n",
    "trail2[1]=throughoutOutliers(trail2[1])\n",
    "trail2[2]=throughoutOutliers(trail2[2])\n",
    "trail2[3]=throughoutOutliers(trail2[3])\n",
    "trail3 =np.loadtxt(\"norm/1013_RXCa.txt\",)\n",
    "trail3[0]=throughoutOutliers(trail3[0])\n",
    "trail3[1]=throughoutOutliers(trail3[1])\n",
    "trail3[2]=throughoutOutliers(trail3[2])\n",
    "trail3[3]=throughoutOutliers(trail3[3])\n",
    "trail4 =np.loadtxt(\"norm/1016_RXC.txt\",)\n",
    "trail4[0]=throughoutOutliers(trail4[0])\n",
    "trail4[1]=throughoutOutliers(trail4[1])\n",
    "trail4[2]=throughoutOutliers(trail4[2])\n",
    "trail4[3]=throughoutOutliers(trail4[3])\n",
    "trail5 =np.loadtxt(\"norm/1016_RXCb.txt\",)\n",
    "trail4[0]=throughoutOutliers(trail4[0])\n",
    "trail4[1]=throughoutOutliers(trail4[1])\n",
    "trail4[2]=throughoutOutliers(trail4[2])\n",
    "trail4[3]=throughoutOutliers(trail4[3])\n",
    "trails1 =np.loadtxt(\"norm/1017_RXC_super1.txt\",)\n",
    "trails2 =np.loadtxt(\"norm/1017_RXC_super2.txt\",)\n",
    "trails3 =np.loadtxt(\"norm/1017_RXC_super3.txt\",)"
   ],
   "metadata": {
    "collapsed": false
   }
  },
  {
   "cell_type": "code",
   "execution_count": 96,
   "outputs": [],
   "source": [
    "xrange=np.linspace(0,60,len(trail3[0]))"
   ],
   "metadata": {
    "collapsed": false
   }
  },
  {
   "cell_type": "code",
   "execution_count": 98,
   "outputs": [
    {
     "data": {
      "text/plain": "[<matplotlib.lines.Line2D at 0x20f330c05b0>]"
     },
     "execution_count": 98,
     "metadata": {},
     "output_type": "execute_result"
    },
    {
     "data": {
      "text/plain": "<Figure size 432x288 with 1 Axes>",
      "image/png": "[encoded data removed]"
     },
     "metadata": {
      "needs_background": "light"
     },
     "output_type": "display_data"
    }
   ],
   "source": [
    "#plt.plot(xrange,trail3[0])\n",
    "plt.plot(xrange,trail3[1])\n",
    "plt.plot(xrange,trail3[2])\n",
    "plt.plot(xrange,trail3[3])"
   ],
   "metadata": {
    "collapsed": false
   }
  },
  {
   "cell_type": "code",
   "execution_count": 57,
   "outputs": [
    {
     "data": {
      "text/plain": "0.73952085"
     },
     "execution_count": 57,
     "metadata": {},
     "output_type": "execute_result"
    }
   ],
   "source": [
    "(trail1[0][1-1]+trail1[0][1+1])/2"
   ],
   "metadata": {
    "collapsed": false
   }
  },
  {
   "cell_type": "code",
   "execution_count": 75,
   "outputs": [
    {
     "data": {
      "text/plain": "array([0.7395081, 0.7395247, 0.7395336, ..., 0.5427855, 0.5427782,\n       0.542777 ])"
     },
     "execution_count": 75,
     "metadata": {},
     "output_type": "execute_result"
    }
   ],
   "source": [
    "np.where()"
   ],
   "metadata": {
    "collapsed": false
   }
  },
  {
   "cell_type": "code",
   "execution_count": null,
   "outputs": [],
   "source": [],
   "metadata": {
    "collapsed": false
   }
  }
 ],
 "metadata": {
  "kernelspec": {
   "display_name": "Python 3",
   "language": "python",
   "name": "python3"
  },
  "language_info": {
   "codemirror_mode": {
    "name": "ipython",
    "version": 2
   },
   "file_extension": ".py",
   "mimetype": "text/x-python",
   "name": "python",
   "nbconvert_exporter": "python",
   "pygments_lexer": "ipython2",
   "version": "2.7.6"
  }
 },
 "nbformat": 4,
 "nbformat_minor": 0
}
