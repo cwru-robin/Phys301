{
 "cells": [
  {
   "cell_type": "code",
   "execution_count": 1,
   "metadata": {
    "pycharm": {
     "name": "#%%\n"
    }
   },
   "outputs": [
    {
     "ename": "ModuleNotFoundError",
     "evalue": "No module named 'scipy'",
     "output_type": "error",
     "traceback": [
      "\u001b[0;31m---------------------------------------------------------------------------\u001b[0m",
      "\u001b[0;31mModuleNotFoundError\u001b[0m                       Traceback (most recent call last)",
      "Cell \u001b[0;32mIn [1], line 2\u001b[0m\n\u001b[1;32m      1\u001b[0m \u001b[38;5;28;01mimport\u001b[39;00m \u001b[38;5;21;01mnumpy\u001b[39;00m \u001b[38;5;28;01mas\u001b[39;00m \u001b[38;5;21;01mnp\u001b[39;00m\n\u001b[0;32m----> 2\u001b[0m \u001b[38;5;28;01mimport\u001b[39;00m \u001b[38;5;21;01mscipy\u001b[39;00m\u001b[38;5;21;01m.\u001b[39;00m\u001b[38;5;21;01minterpolate\u001b[39;00m \u001b[38;5;28;01mas\u001b[39;00m \u001b[38;5;21;01minter\u001b[39;00m\n\u001b[1;32m      3\u001b[0m \u001b[38;5;28;01mimport\u001b[39;00m \u001b[38;5;21;01mmatplotlib\u001b[39;00m\u001b[38;5;21;01m.\u001b[39;00m\u001b[38;5;21;01mpyplot\u001b[39;00m \u001b[38;5;28;01mas\u001b[39;00m \u001b[38;5;21;01mplt\u001b[39;00m\n\u001b[1;32m      4\u001b[0m \u001b[38;5;28;01mimport\u001b[39;00m \u001b[38;5;21;01mscipy\u001b[39;00m\u001b[38;5;21;01m.\u001b[39;00m\u001b[38;5;21;01moptimize\u001b[39;00m \u001b[38;5;28;01mas\u001b[39;00m \u001b[38;5;21;01mopt\u001b[39;00m\n",
      "\u001b[0;31mModuleNotFoundError\u001b[0m: No module named 'scipy'"
     ]
    }
   ],
   "source": [
    "import numpy as np\n",
    "import scipy.interpolate as inter\n",
    "import matplotlib.pyplot as plt\n",
    "import scipy.optimize as opt"
   ]
  },
  {
   "cell_type": "code",
   "execution_count": null,
   "metadata": {
    "pycharm": {
     "name": "#%%\n"
    }
   },
   "outputs": [],
   "source": [
    "s1f1=np.loadtxt(open(\"FP_set1_trail1.csv\", \"rb\"), delimiter=\",\")\n",
    "s1f1[1]=s1f1[1]*1000\n",
    "splines1f1= inter.InterpolatedUnivariateSpline(s1f1[0],s1f1[1],k=5)"
   ]
  },
  {
   "cell_type": "code",
   "execution_count": null,
   "metadata": {
    "pycharm": {
     "name": "#%%\n"
    }
   },
   "outputs": [],
   "source": [
    "\n",
    "fig = plt.figure()\n",
    "ax = fig.add_subplot(111)\n",
    "ax.plot(s1f1[0],s1f1[1], 'r.', label=\"Data Points\")\n",
    "ax.plot(s1f1[0],splines1f1(s1f1[0]),'k--', label=\"Spline\")\n",
    "ax.set_xlabel(\"Piezo Voltage (V)\")\n",
    "ax.set_ylabel(\"Lock In Reading (mV)\")\n",
    "ax.legend(loc=4)\n",
    "ax.set_title(\"Piezo Voltage vs Lock in\")"
   ]
  },
  {
   "cell_type": "code",
   "execution_count": 61,
   "metadata": {
    "pycharm": {
     "name": "#%%\n"
    }
   },
   "outputs": [
    {
     "data": {
      "text/plain": [
       "[<matplotlib.lines.Line2D at 0x197a77f4550>]"
      ]
     },
     "execution_count": 61,
     "metadata": {},
     "output_type": "execute_result"
    },
    {
     "data": {
      "image/png": "[encoded data removed]",
      "text/plain": [
       "<Figure size 432x288 with 1 Axes>"
      ]
     },
     "metadata": {
      "needs_background": "light"
     },
     "output_type": "display_data"
    }
   ],
   "source": [
    "# Calculate x for max\n",
    "firstdevs1f1=splines1f1.derivative(n=1)\n",
    "fig = plt.figure()\n",
    "ax = fig.add_subplot(111)\n",
    "ax.plot(s1f1[0],10*splines1f1(s1f1[0]),'k--', label=\"Spline\")\n",
    "ax.plot(s1f1[0],firstdevs1f1(s1f1[0]), '', label=\"Data Points\")"
   ]
  },
  {
   "cell_type": "code",
   "execution_count": 81,
   "metadata": {
    "pycharm": {
     "name": "#%%\n"
    }
   },
   "outputs": [
    {
     "name": "stdout",
     "output_type": "stream",
     "text": [
      "Peaks are: 5.560980283618862;8.652669135926699;11.587239669126214;14.331936408627133\n"
     ]
    }
   ],
   "source": [
    "firstpeak=opt.brentq(firstdevs1f1,4.6,6)\n",
    "secondpeak=opt.brentq(firstdevs1f1,8,9)\n",
    "thirdpeak= opt.brentq(firstdevs1f1,11.5,12)\n",
    "fourthpeak= opt.brentq(firstdevs1f1,13,15)\n",
    "\n",
    "print(f\"Peaks are: {firstpeak};{secondpeak};{thirdpeak};{fourthpeak}\")"
   ]
  },
  {
   "cell_type": "code",
   "execution_count": 87,
   "metadata": {
    "pycharm": {
     "name": "#%%\n"
    }
   },
   "outputs": [],
   "source": [
    "firstwhm=opt.brentq(lambda x: splines1f1(x)-splines1f1(firstpeak)/2,6,7)-opt.brentq(lambda x: splines1f1(x)-splines1f1(firstpeak)/2,4,6)\n",
    "secondwhm=opt.brentq(lambda x: splines1f1(x)-splines1f1(secondpeak)/2,9,10)-opt.brentq(lambda x: splines1f1(x)-splines1f1(secondpeak)/2,7,8)\n",
    "thirdwhm=opt.brentq(lambda x: splines1f1(x)-splines1f1(secondpeak)/2,12,13)-opt.brentq(lambda x: splines1f1(x)-splines1f1(secondpeak)/2,10,11)"
   ]
  },
  {
   "cell_type": "code",
   "execution_count": 88,
   "metadata": {
    "pycharm": {
     "name": "#%%\n"
    }
   },
   "outputs": [
    {
     "name": "stdout",
     "output_type": "stream",
     "text": [
      "1.6694409496793563 1.5828999144284817 1.516078055357136\n"
     ]
    }
   ],
   "source": [
    "print(firstwhm,secondwhm,thirdwhm)"
   ]
  },
  {
   "cell_type": "code",
   "execution_count": 92,
   "metadata": {
    "pycharm": {
     "name": "#%%\n"
    }
   },
   "outputs": [
    {
     "data": {
      "text/plain": [
       "array([1.85193064, 1.85392046, 1.81039276])"
      ]
     },
     "execution_count": 92,
     "metadata": {},
     "output_type": "execute_result"
    }
   ],
   "source": [
    "finess=np.array([(secondpeak-firstpeak)/firstwhm,(thirdpeak-secondpeak)/secondwhm,(fourthpeak-thirdpeak)/thirdwhm])\n",
    "finess"
   ]
  },
  {
   "cell_type": "markdown",
   "metadata": {
    "pycharm": {
     "name": "#%% md\n"
    }
   },
   "source": [
    "$$ Finess=F_i = \\frac{\\pi \\sqrt{\\frac{4R}{(1-R)^2}}}{2} $$\n"
   ]
  },
  {
   "cell_type": "markdown",
   "metadata": {
    "pycharm": {
     "name": "#%% md\n"
    }
   },
   "source": [
    "$$R=\\frac{2 F_i^2 + π^2 - π \\sqrt{4 F_i^2 + π^2}}{(2 F_i^2)} $$"
   ]
  },
  {
   "cell_type": "code",
   "execution_count": 93,
   "metadata": {
    "pycharm": {
     "name": "#%%\n"
    }
   },
   "outputs": [],
   "source": [
    "r= lambda f_i: (2*f_i**2+np.pi**2-np.pi*np.sqrt(4*f_i**2+np.pi**2))/(2*f_i**2)"
   ]
  },
  {
   "cell_type": "code",
   "execution_count": 94,
   "metadata": {
    "pycharm": {
     "name": "#%%\n"
    }
   },
   "outputs": [
    {
     "data": {
      "text/plain": [
       "array([0.21444084, 0.21473887, 0.20819879])"
      ]
     },
     "execution_count": 94,
     "metadata": {},
     "output_type": "execute_result"
    }
   ],
   "source": [
    "r(finess)"
   ]
  },
  {
   "cell_type": "code",
   "execution_count": null,
   "metadata": {
    "pycharm": {
     "name": "#%%\n"
    }
   },
   "outputs": [],
   "source": []
  }
 ],
 "metadata": {
  "kernelspec": {
   "display_name": "Python 3 (ipykernel)",
   "language": "python",
   "name": "python3"
  },
  "language_info": {
   "codemirror_mode": {
    "name": "ipython",
    "version": 3
   },
   "file_extension": ".py",
   "mimetype": "text/x-python",
   "name": "python",
   "nbconvert_exporter": "python",
   "pygments_lexer": "ipython3",
   "version": "3.10.4"
  }
 },
 "nbformat": 4,
 "nbformat_minor": 1
}
