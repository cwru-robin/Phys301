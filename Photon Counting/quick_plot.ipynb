{
 "cells": [
  {
   "cell_type": "code",
   "execution_count": 38,
   "metadata": {
    "collapsed": true
   },
   "outputs": [],
   "source": [
    "import numpy as np\n",
    "import pandas as pd\n",
    "import scipy.interpolate as inter\n",
    "import matplotlib.pyplot as plt\n",
    "from scipy.signal import savgol_filter\n",
    "from scipy import signal\n",
    "from scipy import constants\n",
    "import scipy.optimize as opt\n",
    "\n",
    "dataframe=pd.read_csv(\"data/trail1.csv\",header=None)"
   ]
  },
  {
   "cell_type": "code",
   "execution_count": 39,
   "outputs": [],
   "source": [
    "dataframe[1]= dataframe[1].map(lambda x : int(x.strip(\"b\").strip(\"'\")))\n",
    "dataframe[0]= dataframe[0].map(lambda x : int(x.strip(\"b\").strip(\"'\")))\n",
    "dataframe=dataframe.rename(columns={0:\"?\",1:\"count\",2:\"distance\"})"
   ],
   "metadata": {
    "collapsed": false
   }
  },
  {
   "cell_type": "code",
   "execution_count": 44,
   "outputs": [
    {
     "data": {
      "text/plain": "        ?  count  distance\n0    1086    426       3.0\n1    1087    424       3.0\n2    1088    441       3.0\n3    1089    382       3.0\n4    1090    369       3.0\n..    ...    ...       ...\n145  1299    195       5.8\n146  1300    194       5.8\n147  1301    226       5.8\n148  1302    192       5.8\n149  1303    206       5.8\n\n[150 rows x 3 columns]",
      "text/html": "<div>\n<style scoped>\n    .dataframe tbody tr th:only-of-type {\n        vertical-align: middle;\n    }\n\n    .dataframe tbody tr th {\n        vertical-align: top;\n    }\n\n    .dataframe thead th {\n        text-align: right;\n    }\n</style>\n<table border=\"1\" class=\"dataframe\">\n  <thead>\n    <tr style=\"text-align: right;\">\n      <th></th>\n      <th>?</th>\n      <th>count</th>\n      <th>distance</th>\n    </tr>\n  </thead>\n  <tbody>\n    <tr>\n      <th>0</th>\n      <td>1086</td>\n      <td>426</td>\n      <td>3.0</td>\n    </tr>\n    <tr>\n      <th>1</th>\n      <td>1087</td>\n      <td>424</td>\n      <td>3.0</td>\n    </tr>\n    <tr>\n      <th>2</th>\n      <td>1088</td>\n      <td>441</td>\n      <td>3.0</td>\n    </tr>\n    <tr>\n      <th>3</th>\n      <td>1089</td>\n      <td>382</td>\n      <td>3.0</td>\n    </tr>\n    <tr>\n      <th>4</th>\n      <td>1090</td>\n      <td>369</td>\n      <td>3.0</td>\n    </tr>\n    <tr>\n      <th>...</th>\n      <td>...</td>\n      <td>...</td>\n      <td>...</td>\n    </tr>\n    <tr>\n      <th>145</th>\n      <td>1299</td>\n      <td>195</td>\n      <td>5.8</td>\n    </tr>\n    <tr>\n      <th>146</th>\n      <td>1300</td>\n      <td>194</td>\n      <td>5.8</td>\n    </tr>\n    <tr>\n      <th>147</th>\n      <td>1301</td>\n      <td>226</td>\n      <td>5.8</td>\n    </tr>\n    <tr>\n      <th>148</th>\n      <td>1302</td>\n      <td>192</td>\n      <td>5.8</td>\n    </tr>\n    <tr>\n      <th>149</th>\n      <td>1303</td>\n      <td>206</td>\n      <td>5.8</td>\n    </tr>\n  </tbody>\n</table>\n<p>150 rows × 3 columns</p>\n</div>"
     },
     "execution_count": 44,
     "metadata": {},
     "output_type": "execute_result"
    }
   ],
   "source": [
    "dataframe"
   ],
   "metadata": {
    "collapsed": false
   }
  },
  {
   "cell_type": "code",
   "execution_count": 53,
   "outputs": [],
   "source": [
    "dfarray=dataframe.to_numpy().T\n"
   ],
   "metadata": {
    "collapsed": false
   }
  },
  {
   "cell_type": "code",
   "execution_count": 54,
   "outputs": [
    {
     "data": {
      "text/plain": "[413.7,\n 193.5,\n 400.9,\n 483.4,\n 196.2,\n 360.4,\n 442.9,\n 197.6,\n 284.9,\n 374.9,\n 217.6,\n 236.1,\n 282.9,\n 205.6,\n 200.6]"
     },
     "execution_count": 54,
     "metadata": {},
     "output_type": "execute_result"
    }
   ],
   "source": [
    "distance=np.arange(dataframe.min()[\"distance\"],dataframe.max()[\"distance\"],.2)\n",
    "res=[]\n",
    "for i in distance:\n",
    "    res.append(np.mean(dfarray[1,np.where(dfarray[2]==i)]))\n",
    "res"
   ],
   "metadata": {
    "collapsed": false
   }
  },
  {
   "cell_type": "code",
   "execution_count": 57,
   "outputs": [
    {
     "data": {
      "text/plain": "[<matplotlib.lines.Line2D at 0x198d89a4a30>]"
     },
     "execution_count": 57,
     "metadata": {},
     "output_type": "execute_result"
    },
    {
     "data": {
      "text/plain": "<Figure size 432x288 with 1 Axes>",
      "image/png": "[encoded data removed]"
     },
     "metadata": {
      "needs_background": "light"
     },
     "output_type": "display_data"
    }
   ],
   "source": [
    "plt.plot(distance,res)"
   ],
   "metadata": {
    "collapsed": false
   }
  },
  {
   "cell_type": "code",
   "execution_count": null,
   "outputs": [],
   "source": [],
   "metadata": {
    "collapsed": false
   }
  }
 ],
 "metadata": {
  "kernelspec": {
   "display_name": "Python 3",
   "language": "python",
   "name": "python3"
  },
  "language_info": {
   "codemirror_mode": {
    "name": "ipython",
    "version": 2
   },
   "file_extension": ".py",
   "mimetype": "text/x-python",
   "name": "python",
   "nbconvert_exporter": "python",
   "pygments_lexer": "ipython2",
   "version": "2.7.6"
  }
 },
 "nbformat": 4,
 "nbformat_minor": 0
}
