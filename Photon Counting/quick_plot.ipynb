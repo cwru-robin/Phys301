{
 "cells": [
  {
   "cell_type": "code",
   "execution_count": 55,
   "metadata": {
    "collapsed": true
   },
   "outputs": [],
   "source": [
    "import numpy as np\n",
    "import pandas as pd\n",
    "import scipy.interpolate as inter\n",
    "import matplotlib.pyplot as plt\n",
    "from scipy.signal import savgol_filter\n",
    "from scipy import signal\n",
    "from scipy import constants\n",
    "import scipy.optimize as opt\n",
    "dataframe1=pd.read_csv(\"data/trail9-5.4mm.csv\",header=None)\n",
    "dataframe2=pd.read_csv(\"data/trail7-5mm.csv\",header=None)\n",
    "dataframe3=pd.read_csv(\"data/trail6-3.7mm.csv\",header=None)\n",
    "dataframe123=[dataframe1,dataframe3,dataframe2]"
   ]
  },
  {
   "cell_type": "code",
   "execution_count": 56,
   "outputs": [],
   "source": [
    "new=[]\n",
    "for dataframe in dataframe123:\n",
    "    dataframe[1]= dataframe[1].map(lambda x : int(x.strip(\"b\").strip(\"'\")))\n",
    "    dataframe[0]= dataframe[0].map(lambda x : int(x.strip(\"b\").strip(\"'\")))\n",
    "    new.append(dataframe.rename(columns={0:\"?\",1:\"count\",2:\"distance\"}))\n",
    "dataframe123=new"
   ],
   "metadata": {
    "collapsed": false
   }
  },
  {
   "cell_type": "code",
   "execution_count": 57,
   "outputs": [
    {
     "data": {
      "text/plain": "        ?  count  distance\n0    5037     53       1.0\n1    5038     58       1.0\n2    5039     52       1.0\n3    5040     65       1.0\n4    5041     54       1.0\n..    ...    ...       ...\n645  6059     31       7.4\n646  6060     30       7.4\n647  6061     26       7.4\n648  6062     43       7.4\n649  6063     28       7.4\n\n[650 rows x 3 columns]",
      "text/html": "<div>\n<style scoped>\n    .dataframe tbody tr th:only-of-type {\n        vertical-align: middle;\n    }\n\n    .dataframe tbody tr th {\n        vertical-align: top;\n    }\n\n    .dataframe thead th {\n        text-align: right;\n    }\n</style>\n<table border=\"1\" class=\"dataframe\">\n  <thead>\n    <tr style=\"text-align: right;\">\n      <th></th>\n      <th>?</th>\n      <th>count</th>\n      <th>distance</th>\n    </tr>\n  </thead>\n  <tbody>\n    <tr>\n      <th>0</th>\n      <td>5037</td>\n      <td>53</td>\n      <td>1.0</td>\n    </tr>\n    <tr>\n      <th>1</th>\n      <td>5038</td>\n      <td>58</td>\n      <td>1.0</td>\n    </tr>\n    <tr>\n      <th>2</th>\n      <td>5039</td>\n      <td>52</td>\n      <td>1.0</td>\n    </tr>\n    <tr>\n      <th>3</th>\n      <td>5040</td>\n      <td>65</td>\n      <td>1.0</td>\n    </tr>\n    <tr>\n      <th>4</th>\n      <td>5041</td>\n      <td>54</td>\n      <td>1.0</td>\n    </tr>\n    <tr>\n      <th>...</th>\n      <td>...</td>\n      <td>...</td>\n      <td>...</td>\n    </tr>\n    <tr>\n      <th>645</th>\n      <td>6059</td>\n      <td>31</td>\n      <td>7.4</td>\n    </tr>\n    <tr>\n      <th>646</th>\n      <td>6060</td>\n      <td>30</td>\n      <td>7.4</td>\n    </tr>\n    <tr>\n      <th>647</th>\n      <td>6061</td>\n      <td>26</td>\n      <td>7.4</td>\n    </tr>\n    <tr>\n      <th>648</th>\n      <td>6062</td>\n      <td>43</td>\n      <td>7.4</td>\n    </tr>\n    <tr>\n      <th>649</th>\n      <td>6063</td>\n      <td>28</td>\n      <td>7.4</td>\n    </tr>\n  </tbody>\n</table>\n<p>650 rows × 3 columns</p>\n</div>"
     },
     "execution_count": 57,
     "metadata": {},
     "output_type": "execute_result"
    }
   ],
   "source": [
    "dataframe123[2]"
   ],
   "metadata": {
    "collapsed": false
   }
  },
  {
   "cell_type": "code",
   "execution_count": 57,
   "outputs": [],
   "source": [],
   "metadata": {
    "collapsed": false
   }
  },
  {
   "cell_type": "code",
   "execution_count": 57,
   "outputs": [],
   "source": [
    "\n"
   ],
   "metadata": {
    "collapsed": false
   }
  },
  {
   "cell_type": "code",
   "execution_count": 58,
   "outputs": [
    {
     "data": {
      "text/plain": "[        ?  count  distance\n 0    6538     55       1.0\n 1    6539     43       1.0\n 2    6540     44       1.0\n 3    6541     47       1.0\n 4    6542     49       1.0\n ..    ...    ...       ...\n 645  7600     37       7.4\n 646  7601     48       7.4\n 647  7602     41       7.4\n 648  7603     57       7.4\n 649  7604     46       7.4\n \n [650 rows x 3 columns],\n         ?  count  distance\n 0    4325     50      1.00\n 1    4326     50      1.00\n 2    4327     50      1.00\n 3    4328     57      1.00\n 4    4329     48      1.00\n ..    ...    ...       ...\n 254  4831     43      7.25\n 255  4832     36      7.25\n 256  4833     28      7.25\n 257  4834     36      7.25\n 258  4835     33      7.25\n \n [259 rows x 3 columns],\n         ?  count  distance\n 0    5037     53       1.0\n 1    5038     58       1.0\n 2    5039     52       1.0\n 3    5040     65       1.0\n 4    5041     54       1.0\n ..    ...    ...       ...\n 645  6059     31       7.4\n 646  6060     30       7.4\n 647  6061     26       7.4\n 648  6062     43       7.4\n 649  6063     28       7.4\n \n [650 rows x 3 columns]]"
     },
     "execution_count": 58,
     "metadata": {},
     "output_type": "execute_result"
    }
   ],
   "source": [
    "dataframe123"
   ],
   "metadata": {
    "collapsed": false
   }
  },
  {
   "cell_type": "code",
   "execution_count": 68,
   "outputs": [
    {
     "name": "stderr",
     "output_type": "stream",
     "text": [
      "/usr/lib/python3/dist-packages/numpy/core/fromnumeric.py:3440: RuntimeWarning: Mean of empty slice.\n",
      "  return _methods._mean(a, axis=axis, dtype=dtype,\n",
      "/usr/lib/python3/dist-packages/numpy/core/_methods.py:189: RuntimeWarning: invalid value encountered in double_scalars\n",
      "  ret = ret.dtype.type(ret / rcount)\n"
     ]
    },
    {
     "data": {
      "text/plain": "[<matplotlib.lines.Line2D at 0x7f2a5ac9b700>]"
     },
     "execution_count": 68,
     "metadata": {},
     "output_type": "execute_result"
    },
    {
     "data": {
      "text/plain": "<Figure size 640x480 with 1 Axes>",
      "image/png": "[encoded data removed]"
     },
     "metadata": {},
     "output_type": "display_data"
    }
   ],
   "source": [
    "dataframe=dataframe123[0]\n",
    "dfarray = dataframe.to_numpy().T\n",
    "distance = np.arange(dataframe.min()[\"distance\"], dataframe.max()[\"distance\"],.1)\n",
    "res = []\n",
    "for i in distance:\n",
    "    res.append(np.mean(dfarray[1, np.where(dfarray[2] == i)]))\n",
    "plt.plot(distance, res, \".\")\n",
    "dataframe=dataframe123[1]\n",
    "dfarray = dataframe.to_numpy().T\n",
    "distance = np.arange(dataframe.min()[\"distance\"], dataframe.max()[\"distance\"],.25)\n",
    "res = []\n",
    "for i in distance:\n",
    "    res.append(np.mean(dfarray[1, np.where(dfarray[2] == i)]))\n",
    "plt.plot(distance, res, \".\")\n",
    "\n",
    "dataframe=dataframe123[2]\n",
    "dfarray = dataframe.to_numpy().T\n",
    "distance = np.arange(dataframe.min()[\"distance\"], dataframe.max()[\"distance\"],.1)\n",
    "res = []\n",
    "for i in distance:\n",
    "    res.append(np.mean(dfarray[1, np.where(dfarray[2] == i)]))\n",
    "plt.plot(distance, res, \".\")\n"
   ],
   "metadata": {
    "collapsed": false
   }
  },
  {
   "cell_type": "code",
   "execution_count": 61,
   "outputs": [
    {
     "data": {
      "text/plain": "[<matplotlib.lines.Line2D at 0x7f2a5a979480>]"
     },
     "execution_count": 61,
     "metadata": {},
     "output_type": "execute_result"
    },
    {
     "data": {
      "text/plain": "<Figure size 640x480 with 1 Axes>",
      "image/png": "[encoded data removed]"
     },
     "metadata": {},
     "output_type": "display_data"
    }
   ],
   "source": [
    "dataframe=dataframe123[1]\n",
    "dfarray=dataframe.to_numpy().T\n",
    "distance=np.arange(dataframe.min()[\"distance\"],dataframe.max()[\"distance\"],.1)\n",
    "res=[]\n",
    "for i in distance:\n",
    "    res.append(np.mean(dfarray[1,np.where(dfarray[2]==i)]))\n",
    "plt.plot(distance,res,)"
   ],
   "metadata": {
    "collapsed": false
   }
  },
  {
   "cell_type": "code",
   "execution_count": 66,
   "outputs": [
    {
     "data": {
      "text/plain": "61.7"
     },
     "execution_count": 66,
     "metadata": {},
     "output_type": "execute_result"
    }
   ],
   "source": [
    "np.mean(dfarray[1,np.where(dfarray[2]==1.25)])"
   ],
   "metadata": {
    "collapsed": false
   }
  },
  {
   "cell_type": "code",
   "execution_count": null,
   "outputs": [],
   "source": [],
   "metadata": {
    "collapsed": false
   }
  }
 ],
 "metadata": {
  "kernelspec": {
   "display_name": "Python 3",
   "language": "python",
   "name": "python3"
  },
  "language_info": {
   "codemirror_mode": {
    "name": "ipython",
    "version": 2
   },
   "file_extension": ".py",
   "mimetype": "text/x-python",
   "name": "python",
   "nbconvert_exporter": "python",
   "pygments_lexer": "ipython2",
   "version": "2.7.6"
  }
 },
 "nbformat": 4,
 "nbformat_minor": 0
}
